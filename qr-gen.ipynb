{
 "cells": [
  {
   "cell_type": "code",
   "execution_count": 1,
   "metadata": {},
   "outputs": [],
   "source": [
    "import qrcode"
   ]
  },
  {
   "cell_type": "code",
   "execution_count": 2,
   "metadata": {},
   "outputs": [],
   "source": [
    "qr = qrcode.QRCode(\n",
    "    version=1,\n",
    "    error_correction=qrcode.constants.ERROR_CORRECT_L,\n",
    "    box_size=10,\n",
    "    border=4,\n",
    ")\n",
    "qr.add_data('https://crhisbenitz.github.io/karorgan')\n",
    "qr.make(fit=True)\n",
    "\n",
    "img = qr.make_image(fill_color=\"black\", back_color=\"white\")"
   ]
  },
  {
   "cell_type": "code",
   "execution_count": 3,
   "metadata": {},
   "outputs": [],
   "source": [
    "import PIL\n",
    "from PIL import Image, ImageDraw"
   ]
  },
  {
   "cell_type": "code",
   "execution_count": 4,
   "metadata": {},
   "outputs": [],
   "source": [
    "#Custom function for eye styling. These create the eye masks\n",
    "\n",
    "def style_inner_eyes(img):\n",
    "    img_size = img.size[0]\n",
    "    eye_size = 70 #default\n",
    "    quiet_zone = 40 #default\n",
    "    mask = Image.new('L', img.size, 0)\n",
    "    draw = ImageDraw.Draw(mask)\n",
    "    draw.rectangle((60, 60, 90, 90), fill=255) #top left eye\n",
    "    draw.rectangle((img_size-90, 60, img_size-60, 90), fill=255) #top right eye\n",
    "    draw.rectangle((60, img_size-90, 90, img_size-60), fill=255) #bottom left eye\n",
    "    return mask\n",
    "\n",
    "def style_outer_eyes(img):\n",
    "    img_size = img.size[0]\n",
    "    eye_size = 70 #default\n",
    "    quiet_zone = 40 #default\n",
    "    mask = Image.new('L', img.size, 0)\n",
    "    draw = ImageDraw.Draw(mask)\n",
    "    draw.rectangle((40, 40, 110, 110), fill=255) #top left eye\n",
    "    draw.rectangle((img_size-110, 40, img_size-40, 110), fill=255) #top right eye\n",
    "    draw.rectangle((40, img_size-110, 110, img_size-40), fill=255) #bottom left eye\n",
    "    draw.rectangle((60, 60, 90, 90), fill=0) #top left eye\n",
    "    draw.rectangle((img_size-90, 60, img_size-60, 90), fill=0) #top right eye\n",
    "    draw.rectangle((60, img_size-90, 90, img_size-60), fill=0) #bottom left eye  \n",
    "    return mask  "
   ]
  },
  {
   "cell_type": "code",
   "execution_count": 5,
   "metadata": {},
   "outputs": [],
   "source": [
    "import qrcode\n",
    "from qrcode.image.styledpil import StyledPilImage\n",
    "from qrcode.image.styles.moduledrawers import RoundedModuleDrawer,VerticalBarsDrawer,SquareModuleDrawer,GappedSquareModuleDrawer\n",
    "from  qrcode.image.styles.colormasks import SolidFillColorMask, RadialGradiantColorMask"
   ]
  },
  {
   "cell_type": "code",
   "execution_count": 10,
   "metadata": {},
   "outputs": [
    {
     "data": {
      "image/png": "[encoded data removed]",
      "text/plain": [
       "<qrcode.image.styledpil.StyledPilImage at 0x7ff87650ef40>"
      ]
     },
     "execution_count": 10,
     "metadata": {},
     "output_type": "execute_result"
    }
   ],
   "source": [
    "if not hasattr(PIL.Image, 'Resampling'):\n",
    "    PIL.Image.Resampling = PIL.Image\n",
    "    \n",
    "if not hasattr(PIL.Image, 'Transpose'):  \n",
    "    PIL.Image.Transpose = PIL.Image   \n",
    "\n",
    "# Now PIL.Image.Resampling.BICUBIC is always recognized.\n",
    "\n",
    "\n",
    "qr = qrcode.QRCode(version=2,error_correction=qrcode.constants.ERROR_CORRECT_H,)\n",
    "\n",
    "qr.add_data('https://crhisbenitz.github.io/karorgan')\n",
    "\n",
    "qr.make(fit=True)\n",
    "\n",
    "img = qr.make_image(fill_color=\"black\", back_color=\"white\")\n",
    "\n",
    "# qr_inner_eyes_img = qr.make_image(image_factory=StyledPilImage,\n",
    "#                             eye_drawer=RoundedModuleDrawer(radius_ratio=1.2),\n",
    "#                             color_mask=SolidFillColorMask(back_color=(255, 255, 255), front_color=(168, 19, 32)))\n",
    "\n",
    "# qr_outer_eyes_img = qr.make_image(image_factory=StyledPilImage,\n",
    "#                             eye_drawer=RoundedModuleDrawer(),\n",
    "#                             color_mask=SolidFillColorMask(back_color=(255, 255, 255),front_color=(18, 136, 136)))                            \n",
    "\n",
    "# qr_img = qr.make_image(image_factory=StyledPilImage,\n",
    "#                        module_drawer=RoundedModuleDrawer(),\n",
    "#                        color_mask = RadialGradiantColorMask(back_color=(255, 255, 255),\n",
    "#                                                             center_color=(0, 255, 254),\n",
    "#                                                             edge_color=(255, 0, 23)))\n",
    "\n",
    "qr_img = qr.make_image(image_factory=StyledPilImage,\n",
    "                       module_drawer=RoundedModuleDrawer())\n",
    "\n",
    "# inner_eye_mask = style_inner_eyes(qr_img)\n",
    "# outer_eye_mask = style_outer_eyes(qr_img)\n",
    "# intermediate_img = Image.composite(qr_inner_eyes_img, qr_img, inner_eye_mask)\n",
    "# final_image = Image.composite(qr_outer_eyes_img, intermediate_img, outer_eye_mask)\n",
    "# # final_image.save('final_image.png')\n",
    " \n",
    "# # set size of QR code\n",
    "# Logo_link = 'kaggle.png'\n",
    "# logo = Image.open(Logo_link) \n",
    "\n",
    "# taking base width\n",
    "# basewidth = 100\n",
    "# # adjust image size\n",
    "# wpercent = (basewidth/float(logo.size[0]))\n",
    "# hsize = int((float(logo.size[1])*float(wpercent)))\n",
    "# logo = logo.resize((basewidth, hsize), Image.ANTIALIAS)\n",
    "# logo_bg = Image.new(\"RGBA\", final_image.size, color=(255,255,255,0))\n",
    "# logo = logo.convert('RGBA')\n",
    "# pos = ((final_image.size[0] - logo.size[0]) // 2,\n",
    "#        (final_image.size[1] - logo.size[1]) // 2)\n",
    "# logo_bg.paste(logo,pos)\n",
    "\n",
    "# final_image = final_image.convert('RGBA')\n",
    "# Image.alpha_composite(final_image,logo_bg)\n",
    "\n",
    "qr_img"
   ]
  },
  {
   "cell_type": "code",
   "execution_count": null,
   "metadata": {},
   "outputs": [],
   "source": []
  }
 ],
 "metadata": {
  "kernelspec": {
   "display_name": "Python 3",
   "language": "python",
   "name": "python3"
  },
  "language_info": {
   "codemirror_mode": {
    "name": "ipython",
    "version": 3
   },
   "file_extension": ".py",
   "mimetype": "text/x-python",
   "name": "python",
   "nbconvert_exporter": "python",
   "pygments_lexer": "ipython3",
   "version": "3.9.12"
  }
 },
 "nbformat": 4,
 "nbformat_minor": 2
}
